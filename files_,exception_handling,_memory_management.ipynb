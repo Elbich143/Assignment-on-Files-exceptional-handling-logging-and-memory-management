{
  "nbformat": 4,
  "nbformat_minor": 0,
  "metadata": {
    "colab": {
      "provenance": []
    },
    "kernelspec": {
      "name": "python3",
      "display_name": "Python 3"
    },
    "language_info": {
      "name": "python"
    }
  },
  "cells": [
    {
      "cell_type": "markdown",
      "source": [
        "  **Theorytical Questions**"
      ],
      "metadata": {
        "id": "Hm0x8xMzo8af"
      }
    },
    {
      "cell_type": "markdown",
      "source": [
        "#1 What is the difference between interpreted and compiled languages?\n",
        "- A compiled language in a programming language that is generally compiled not interpreted but a interpreted language is the language whare a code can be executed line by line\n",
        "- Code is translated into machine code by a compiler and in intrpreted language execute code line by line\n",
        "- In compiled language the speed is faster as because it's allready machne code and in interpreted language speedd is slower because translation happens while running.\n",
        "- While in the compiled language once a programme is compiled it is expressed in the instruction of the target machine and in the interpreted language the instruction are not directly executed by the target machine.\n",
        "- In compiled language there are atleast two steps to get from the souece code to execution and in the interpreted language there is only one step to get from the source code to execution.\n",
        "- In compiler language the compiler program runs faster than interpreter and in interpreter language program can be modified while running which makes it slower.\n",
        "- In compiled language the language delivers better performance and in interpreter language the language dlivers relatively slower performance .\n",
        "- Examples of compiled language are C, C++, C#, CLEO etc.. and the examples of interpreter languange are Perl, Python, BASIC etc..\n",
        "- Python are interpreted language that first compiles to bite code which is than interpreted by Python Vartual Machine(PVM).\n",
        "\n",
        "\n",
        "#2 What is exception handling in Python?\n",
        "- Python exception handling handles error that occurs during execution of the program.\n",
        "- Exception handling allows to responds to the error insted of crashing the running program.\n",
        "- It enables us to catch and mannage error making our code more user friendly.\n",
        "- An error is a problem in the code (like syntax error )\n",
        "- An exception is a problem that occurs during execution ( like dividing by zero, accessing a missing file or input/ output)\n",
        "- Without exception handling the python will stop the programme when an exception occurs but with exception handling we can catch error and decide what to do insted.\n",
        "- We need exception handling to prevent program crash, giving a meningful error message allow fallback or alternative logic.\n",
        "- With try, except, else and finally we can handle execption\n",
        "- whenever an exception occurs python stops the program and generate exception\n",
        "- Every code which is risky/ suspecious we should use exception handling.\n",
        "\n",
        "\n",
        "#3 What is the purpose of the finally block in exception handling?\n",
        "- Finally blocks always runsregardless of whether if a exception occured or not.\n",
        "- It is tipically used for cleaning up operation (closing files, releasing resources).\n",
        "- Finally is similar like running other line of code.\n",
        "- examples for the purpose of finally block\n",
        "-try:\n",
        "-   a = int(input(\"Enter a number: \"))\n",
        "-   result = 10/a\n",
        "- except:\n",
        "-   print(\"Please enter a valid number\")\n",
        "- else:\n",
        "-   print(\"Number should not be zero\")\n",
        "- finally:\n",
        "-   print(\"The result is \", result)   \n",
        "\n",
        "\n",
        "\n",
        "#4 What is logging in Python?\n",
        "- Logging is a means of tracking events that happens when a software runs.\n",
        "- It records the state of flow of our program /code/ software.\n",
        "- It is useful in underastanding,  monetering of our code.\n",
        "- Logging is important for software developement debugging and running.\n",
        "- It shows how a program behaves overtime.\n",
        "- If we don't have any logging records and our programme crashes, there are very few chnance that we could detect the problems and if we detect the problem it will take a lot of time\n",
        "- With lopping, we can leave a trial of breakdown so that if something goes wrong we can determine the cause of the problem.\n",
        "- There are five built-in levels of the log message and they are as follows:\n",
        "- a) Debug:- Lowest level of logging. To give information of any variables while doing debugging.\n",
        "- b) Info:- This is used to convey that the codes are working properly.\n",
        "- c)  Warning:- Used to convey that something unexcepted happened or potential issue in the code.\n",
        "- d) Error:- Serious problem with some functions.\n",
        "- e) Critical:- termination of program/ code / software.\n",
        "- The above level of logging is executed in the same order debug being the lowest priority and critical being the highest priority.\n",
        "\n",
        "\n",
        "\n",
        "#5 What is the significance of the __del__ method in Python?\n",
        "- The __del__ method is a special method in python it is called when an object is about to be destroyed.\n",
        "- It allows us to define a specific clean up action that should be taken when an object should be garbage collected.\n",
        "- This method can be particularly useful for releasing external resourcesuch as files handles, network connection or data base collection that an object may hold.\n",
        "- The purpose of __del__ method is used to define the action that should be performed before an object is destroyed. This can include releasing external resourcessuch as file or database connection associated with an object.\n",
        "- It is used when python garbage collectors identifies that an object is no long referring to any part of the program, it shedules that __del__ method of the objectto be called before reclaming it's memory.\n",
        "- synatx:\n",
        "- def__del__(self):\n",
        "- pass\n",
        "\n",
        "\n",
        "#6 What is the difference between import and from ... import in Python?\n",
        "- Import module statements imports the entire module and and from it imports single, multiple, all objects from a module.\n",
        "- In import one of the function to specify the name of the module and the name of the function separetely by a dot and in from to acess the function threr is no need to prefix module name to import iteam name\n",
        "- In import all it's iteam in a namespace with the same name as of the module and from import specified iteam from the module into the current namespace\n",
        "- Import apporach doesnot cause any problem and from space can lead to namespace pollution and name clash if multiple import iteam with same name\n",
        "- example import(math), print(math.pi), print(math.sqrt(25)) and example of from  from math import pi, sqrt,   print(pi), print(sqrt(25)\n",
        "- The advantages of import module is that this method provide cleaner contextin the code about where a particular function or class origanates making the code readable and the advantages of from it provides a shortcut to acess all functionalities without the need for the prefix.\n",
        "\n",
        "\n",
        "#7 How can you handle multiple exceptions in Python?\n",
        "- we can handle multiple exception in python by using try - except block using a few different method : multiple except block .\n",
        "- This approach involves using separate except blocks for each specific exception type that needs distinct handling. Only the except block corresponding to the raised exception will be executed.\n",
        "- Examples of handling mulitple exception in a seperate block::\n",
        "- try:\n",
        "-  a = int(input(\"Enter a number: \"))\n",
        "-  result = 10/a\n",
        "- except ZeroDivisionError as e :\n",
        "-  print(\"The error is due to\", e)\n",
        "- except ValueError as e:\n",
        "-  print(\"The error is due to\", e)\n",
        "- else:\n",
        "-  print(\"The result is \", result)  \n",
        "- Example of handling multiple exception in a single block::\n",
        "- try :\n",
        "-  a = int(input(\"Enter a number: \"))\n",
        "-  result = 20/a\n",
        "- except (ZeroDivisionError, NameError, ValueError ) as e:\n",
        "-  print(\"The error is due to \", e)\n",
        "- finally:\n",
        "-  print(\"The result is \", result)  \n",
        "\n",
        "\n",
        "#8 What is the purpose of the with statement when handling files in Python?\n",
        "- The \"with\" statement in Python simplifies resource management by automatically handling setup and cleanup tasks.\n",
        "- It's commonly used with files, network connections and databases to ensure resources are properly released even if errors occur making your code cleaner.\n",
        "- We need with statement to simplify resource management, to replace try, except and finally block and enhence readability.\n",
        "- When working with files, it's important to open and close them properly to avoid issues like memory leaks or file corruption.\n",
        "- Python's with statement simplifies resource handling by managing setup and cleanup automatically\n",
        "- File handling is one of the most common use cases for with statement.\n",
        "- with open(...) as f: guarantees the file is closed promptly and safely when the block finishes—whether it finishes normally or via an exception.\n",
        "- That means handles don't leak, data gets flushed, and your code is cleaner than a manual try/finally.\n",
        "\n",
        "\n",
        "\n",
        "#9 What is the difference between multithreading and multiprocessing?\n",
        "- Multithread since it happens on multiple threads (light weight execution unit) runs within the same process and multiprocessing have multiple process runs indeprendently each with it's own memory space\n",
        "- Since multithread hapens on the same processor thread share same memory space and resources within the process and in multiprocessing since multiple cores/process are there each process have it's own memory space and resources which are isolated fom other process.\n",
        "- Multithread overhead is light in weight (thread creation is creation) and in multiprocessing overhead is havier (process creation is more expensive).\n",
        "- Multithrading runs cuncurently and multiprocessing it runs turely parallel on multiple CPU core.\n",
        "- In multithreading a creashing thread can crash the whole process and in multiprocessing a crashing process usually doesnot effect the other process.\n",
        "- Multithread is used in input/output , like downloading the file etc... and multiprocessing is used CPU bound task or sutiable for task that are independent and can run isolation\n",
        "- multithread are best for task that are part of the same application and needed to share data or resoueces and multiprocessing scales across multiple cores  which is better for heavy number crushing.\n",
        "\n",
        "\n",
        "#10 What are the advantages of using logging in a program?\n",
        "-a) Better than print() debuging:\n",
        "- print() is quick for small test but logs can include timestamps, log levels, and file/line info, be written to files , consoles or external system, be easily turned off/on or filter without changing code.\n",
        "- b) Persistane Record of Events:\n",
        "- Logs can be stored in files or databases, giving you a history of what happened, ogs can be stored in files or databases, giving you a history of what happened, helps reproduce bugs and understand the sequence of actions leading to an error.\n",
        "- c) Different Security level:\n",
        "- Debug:- Lowest level of logging. To give information of any variables while doing debugging.\n",
        "- Info:- This is used to convey that the codes are working properly.\n",
        "- Warning:- Used to convey that something unexcepted happened or potential issue in the code.\n",
        "- Error:- Serious problem with some functions.\n",
        "- Critical:- termination of program/ code / software.\n",
        "- The above level of logging is executed in the same order debug being the lowest priority and critical being the highest priority.\n",
        "- Python logging module is thread safe and user friendly.\n",
        "- Prevents messy output that happens if multiple threads/processes use print().\n",
        "\n",
        "\n",
        "\n",
        "#11 What is memory management in Python?\n",
        "- Memeory management in python refers to the system that handels the allocation deallocation of  the memory for python objectsduring program execution.\n",
        "- Memory management refers to process of allocating and deallocating memory to a program while it runs.\n",
        "- Python handles memory management automatically using mechanisms like reference counting and garbage collection, which means programmers do not have to manually manage memory.\n",
        "- Python automatically manage memory by using garbage collection:\n",
        "- It is a process in which Python automatically frees memory occupied by objects that are no longer in use.\n",
        "- If an object has no references pointing to it (i.e., nothing is using it), garbage collector removes it from memory.\n",
        "- This ensures that unused memory can be reused for new objects.\n",
        "- Example of memory allocation:\n",
        "- a = [1, 2, 3]\n",
        "- b = a\n",
        "- print(id(a), id(b))   # Same ID → both point to same list\n",
        "- b.append(4)\n",
        "- print(a)\n",
        "\n",
        "\n",
        "#12 What are the basic steps involved in exception handling in Python?\n",
        "- Exception handling in Python involves managing runtime errors to prevent program crashes and ensure graceful execution. The basic steps are as follows:\n",
        "- try block: This block encloses the code that is anticipated to potentially raise an exception. Python attempts to execute the code within this block. If an exception occurs, the execution of the try block is immediately halted, and control is transferred to the appropriate except block.\n",
        "-     try:\n",
        "-        # Code that might raise an exception\n",
        "-        result = 10 / 0\n",
        "- except Block: These blocks follow the try block and are responsible for handling specific types of exceptions. When an exception occurs in the try block, Python searches for an except block that matches the type of the raised exception. If a match is found, the code within that except block is executed. Multiple except blocks can be used to handle different exception types specifically, or a general except block can catch any unhandled exceptions.\n",
        "-    except ZeroDivisionError:\n",
        "-        print(\"Error: Cannot divide by zero!\")\n",
        "-    except ValueError:\n",
        "-        print(\"Error: Invalid value provided.\")\n",
        "-    except Exception as e: # General exception handler\n",
        "-        print(f\"An unexpected error occurred: {e}\")\n",
        "- else Block (Optional): This block is executed only if no exceptions are raised within the try block. It is useful for placing code that should only run when the try block completes successfully.\n",
        "-     else:\n",
        "-        print(\"Operation completed successfully.\")\n",
        "- finally Block (Optional): This block always executes, regardless of whether an exception occurred in the try block or was caught by an except block. It is typically used for cleanup operations, such as closing files or releasing resources, ensuring these actions happen even in the presence of errors.\n",
        "-  finally:\n",
        "-    print(\"Cleanup operations completed.\")\n",
        "\n",
        "\n",
        "#13  Why is memory management important in Python?\n",
        "- Memory management is crucial in Python, even though it handles much of it automatically, for several key reasons:\n",
        "- Efficiency and Performance: Efficient memory management ensures that programs use only the necessary amount of memory. This prevents excessive memory consumption, which can lead to slower execution, resource contention, and even system crashes, especially in applications dealing with large datasets or running for extended periods.\n",
        "- Resource Optimization: Python's automatic memory management (through mechanisms like reference counting and garbage collection) aims to reclaim memory occupied by objects no longer in use. Understanding how this works helps developers write code that allows these mechanisms to function effectively, freeing up resources for other parts of the program or other applications.\n",
        "- Preventing Memory Leaks: Improper memory handling, even in a language with automatic management, can lead to memory leaks where memory is allocated but never released, even after the objects are no longer needed. This can degrade application performance over time and eventually lead to out-of-memory errors.\n",
        "- Debugging and Troubleshooting: A grasp of Python's memory model helps in diagnosing and resolving memory-related issues, such as unexpected memory usage patterns or performance bottlenecks. It allows developers to identify potential areas for optimization in their code.\n",
        "- Writing Optimized Code: While Python simplifies memory management, knowledge of its inner workings (e.g., how different data structures consume memory, the impact of object overhead) enables developers to make informed choices about data structures and algorithms, leading to more memory-efficient and performant code. For instance, using generators for large datasets can significantly reduce memory footprint compared to loading the entire dataset into memory.\n",
        "\n",
        "\n",
        "#14 What is the role of try and except in exception handling?\n",
        "- The role of try and except block in python is to prevent undefined/ unwanted errors that comes in a massy way to handle them to get look nice in a better way.\n",
        "- Role of try:\n",
        "-The try block encloses the code segment where an exception or error is anticipated to occur.\n",
        "- It functions as a protective wrapper, allowing the program to attempt potentially problematic operations without immediately terminating if an error arises within this block.\n",
        "- example of try:\n",
        "- try:\n",
        "- a = int(input(\"Enter a number: \"))\n",
        "- result = 20/a\n",
        "- Role of else:\n",
        "- The except block immediately follows the try block and defines the actions to be taken when a specific type of exception (or any exception, if not specified) is raised within the try block.\n",
        "- When an exception occurs in the try block, the program execution jumps to the corresponding except block, and the code within that except block is executed to handle the error.\n",
        "- Multiple except blocks can be used to handle different types of exceptions, allowing for tailored error responses.\n",
        "- Examples of else block:\n",
        "- except ZeroDivisionError as e:\n",
        "-    print(\"The error has occured due to\", e)\n",
        "- except ValueError as e:\n",
        "-    print(\"The error has occured due to, e\")\n",
        "- This are all the exceplanation of try and except block\n",
        "\n",
        "\n",
        "#15 How does Python's garbage collection system work?\n",
        "- Python's garbage collection system employs a hybrid approach primarily relying on reference counting and supplemented by a generational garbage collector to handle cyclic references\n",
        "- This is the primary mechanism for memory management.\n",
        "- Every object in Python maintains a reference count, which tracks the number of references pointing to it.\n",
        "- When an object is created, its reference count is initialized.\n",
        "- The reference count increments when a new reference to the object is created (e.g., assigning it to another variable) and decrements when a reference is removed (e.g., variable goes out of scope, reassignment, or explicit deletion).\n",
        "- When an object's reference count drops to zero, it means no variables or other objects are referencing it, making it eligible for immediate deallocation, and its memory is reclaimed.\n",
        "- Reference counting alone cannot handle cyclic references, where two or more objects reference each other, forming a cycle, even if no external references point to the cycle. This would prevent their reference counts from ever reaching zero.\n",
        "- Generations: New objects start in Generation 0. Objects that survive a garbage collection cycle in Generation 0 are promoted to Generation 1, and similarly, from Generation 1 to Generation 2.\n",
        "- Collection Frequency: Younger generations (Generation 0) are collected more frequently as they are more likely to contain short-lived objects that become garbage quickly. Older generations are collected less frequently.\n",
        "- Mark and Sweep: When a collection cycle runs for a generation, the collector performs a \"mark and sweep\" algorithm. It traverses the reference graph from reachable objects, marking all reachable objects. Unmarked objects, including those involved in cyclic references that are no longer reachable from the main program, are then swept (deallocated)\n",
        "\n",
        "\n",
        "#16 What is the purpose of the else block in exception handling?\n",
        "- In Python's exception handling, the else block serves the purpose of executing code only when no exceptions are raised within the corresponding try block.\n",
        "- else block: Contains code that should run only if the try block completes successfully, without any exceptions being raised.\n",
        "- try:\n",
        "-  a = int(input(\"Enter a number:\"))\n",
        "-  result = 20/a\n",
        "- except ZeroDivisionError as e:\n",
        "-  print(\"The error occured due to\", e)\n",
        "- else:\n",
        "-   print(\"The result is:\", result)   \n",
        "\n",
        "\n",
        "\n",
        "#17 What are the common logging levels in Python?\n",
        "- The common logging level in python are as follows:\n",
        "- a) Debug:- Lowest level of logging. To give information of any variables while doing debugging.\n",
        "- b) Info:- This is used to convey that the codes are working properly.\n",
        "- c)  Warning:- Used to convey that something unexcepted happened or potential issue in the code.\n",
        "- d) Error:- Serious problem with some functions.\n",
        "- e) Critical:- termination of program/ code / software.\n",
        "- The above level of logging is executed in the same order debug being the lowest priority and critical being the highest priority.\n",
        "\n",
        "\n",
        "\n",
        "#18 What is the difference between os.fork() and multiprocessing in Python?\n",
        "- The core difference between os.fork() and Python's multiprocessing module lies in their level of abstraction and portability:\n",
        "- os.fork() (Low-Level System Call):\n",
        "- Direct System Call: os.fork() is a direct wrapper around the Unix/Linux fork() system call. It creates a new process (the \"child\") that is an exact copy of the calling process (the \"parent\")\n",
        "- Copy-on-Write: The child process initially shares the parent's memory pages using a copy-on-write mechanism, meaning pages are only duplicated when modified by either process.\n",
        "- Unix-Specific: os.fork() is only available on Unix-like operating systems (Linux, macOS, etc.) and is not supported on Windows\n",
        "- Manual Management: You are responsible for managing the child process, including waiting for its completion (os.waitpid()) and handling inter-process communication (IPC) if needed.\n",
        "- multiprocessing Module (High-Level Abstraction):\n",
        "- Cross-Platform: The multiprocessing module provides a higher-level, cross-platform API for creating and managing processes, working on Windows, Linux, and macOS.\n",
        "- Process Start Methods: It offers different \"start methods\" for creating new processes:\n",
        "- fork (default on Linux): Similar to os.fork(), but handled by the module.\n",
        "- spawn (default on Windows and macOS): Starts a fresh Python interpreter process, providing better isolation and avoiding issues with inherited resources.\n",
        "- forkserver: A hybrid approach where a server process is forked, and subsequent child processes are spawned from this server.\n",
        "- Simplified Management: The module handles much of the complexity of process management, including cleanup, and provides tools for IPC (queues, pipes, shared memory) and synchronization (locks, events).\n",
        "- Focus on Concurrency: It's designed to facilitate concurrent execution of tasks, often used in scenarios like parallelizing CPU-bound computations.\n",
        "\n",
        "\n",
        "\n",
        "#19 What is the importance of closing a file in Python?\n",
        "- Closing a file in Python is crucial for several reasons, primarily related to resource management and data integrity:\n",
        "- Resource Release: When a file is opened, the operating system allocates resources to manage it. Failing to close a file means these resources are not released, leading to potential resource leaks, especially in long-running applications or those handling many files. This can exhaust the available file handles, preventing the program from opening new files or even causing system-wide issues.\n",
        "- Data Integrity: When writing data to a file, Python often uses internal buffers to optimize performance. Data might not be immediately written to the disk but held in these buffers. Closing the file explicitly flushes these buffers, ensuring that all written data is committed to the storage medium, thus preventing data loss or corruption in case of program termination or system crashes.\n",
        "- File Locking and Access: In some operating systems or scenarios, an open file might be locked, preventing other processes or users from accessing or modifying it. Closing the file releases these locks, allowing other applications or users to interact with the file.\n",
        "- Best Practice and Code Robustness: Explicitly closing files is considered a good programming practice. It makes the code more predictable and robust, reducing the likelihood of unexpected behavior or errors related to file handling. The with statement in Python is highly recommended for file handling as it automatically ensures files are closed, even if exceptions occur\n",
        "\n",
        "\n",
        "#20 What is the difference between file.read() and file.readline() in Python?\n",
        "- In Python, file.read() and file.readline() are methods used to read content from a file object, but they differ in how much content they retrieve\n",
        "- file.read(): This method reads the entire content of the file and returns it as a single string. It can also take an optional integer argument, size, which specifies the number of characters (or bytes in binary mode) to read from the file. If size is omitted, the entire file is read.\n",
        "- Example:\n",
        "-     with open(\"example.txt\", \"r\") as file:\n",
        "-        content = file.read()\n",
        "-        print(content)\n",
        "- file.readline(): This method reads a single line from the file until a newline character (\\n) is encountered, or until the end of the file is reached. It returns the read line as a string, including the newline character if present. If the end of the file is reached and no characters are read, it returns an empty string.\n",
        "- Example:\n",
        "-     with open(\"example.txt\", \"r\") as file:\n",
        "-        line1 = file.readline()\n",
        "-        line2 = file.readline()\n",
        "-        print(line1)\n",
        "-        print(line2)\n",
        "\n",
        "\n",
        "\n",
        "#21 What is the logging module in Python used for?\n",
        "- The logging module in Python is a part of the standard library and provides a flexible and powerful framework for emitting log messages from applications. Its primary uses include:\n",
        "- Tracking Events: Recording significant events that occur during program execution, such as successful operations, configuration changes, or user interactions.\n",
        "- Debugging and Troubleshooting: Providing detailed information about the program's state at specific points, which is invaluable for identifying and resolving issues. This includes error messages, warnings, and debug-level information.\n",
        "- Monitoring Application Health: Collecting data about performance, resource usage, and potential problems, allowing developers to monitor the application's health and proactively address issues.\n",
        "- Auditing and Compliance: Creating a record of activities for auditing purposes, especially in applications with security or regulatory compliance requirements.\n",
        "\n",
        "\n",
        "\n",
        "#22 What is the os module in Python used for in file handling?\n",
        "- The os module in Python provides a way to interact with the operating system, offering a wide range of functions for file and directory handling. It allows you to perform operations that are typically done at the command line or through a graphical file manager, directly within your Python scripts.\n",
        "- Here's how the os module is used in file handling:\n",
        "- a) Directory Operations:\n",
        "- os.mkdir(): Creates a new directory.\n",
        "- os.rmdir(): Removes an empty directory.\n",
        "- os.makedirs(): Creates directories recursively.\n",
        "- os.removedirs(): Removes empty directories recursively.\n",
        "- os.chdir(): Changes the current working directory.\n",
        "- os.getcwd(): Returns the current working directory.\n",
        "- os.listdir(): Lists the contents of a directory.\n",
        "- b) File Operations:\n",
        "- os.rename(): Renames a file or directory.\n",
        "- os.remove(): Deletes a file.\n",
        "- os.link(): Creates a hard link to a file.\n",
        "- os.symlink(): Creates a symbolic link to a file.\n",
        "- os.stat(): Returns status information about a file or file descriptor.\n",
        "- Path Manipulation:\n",
        "- os.path.join(): Joins path components intelligently.\n",
        "- os.path.abspath(): Returns an absolute path.\n",
        "- os.path.exists(): Checks if a path exists.\n",
        "- os.path.isfile(): Checks if a path points to a file.\n",
        "- os.path.isdir(): Checks if a path points to a directory.\n",
        "- os.path.split(): Splits a path into a head and tail.\n",
        "- Permissions and Ownership:\n",
        "- os.chmod(): Changes file permissions.\n",
        "- os.chown(): Changes file ownership.\n",
        "- And there are many os module also\n",
        "\n",
        "\n",
        "#23 What are the challenges associated with memory management in Python?\n",
        "- Memory management in Python, while largely automated, presents several challenges:\n",
        "- Handling Cyclic References: Python's primary memory management mechanism, reference counting, cannot detect and free objects involved in cyclic references (where objects reference each other, forming a closed loop). This can lead to memory leaks if not addressed by the generational garbage collector, which runs periodically to reclaim such memory.\n",
        "- Performance Overhead of Garbage Collection: While necessary for managing cyclic references and reclaiming unused memory, the garbage collector can introduce performance overhead, especially in applications with a high volume of object creation and deletion or complex object graphs. Frequent garbage collection cycles can lead to latency spikes.\n",
        "- Memory Bloat and Excessive Usage:\n",
        "Python programs can sometimes consume more memory than expected due to inefficient coding practices, such as creating unnecessary copies of objects (e.g., repeated string concatenation without using efficient methods like join() or f-strings) or holding onto large objects longer than necessary.\n",
        "- Memory Leaks: Despite automatic garbage collection, memory leaks can still occur if objects are inadvertently kept alive by lingering references, preventing the garbage collector from deallocating them. This is particularly problematic in long-running applications like web servers.\n",
        "- Limited Low-Level Control: Compared to languages like C or C++, Python offers less direct control over memory allocation and deallocation. While this simplifies development, it can be a challenge for optimizing memory usage in highly performance-critical scenarios where fine-grained control is desired.\n",
        "- Fragmentation: Over time, repeated allocation and deallocation of varying-sized objects can lead to memory fragmentation, where free memory is scattered in small, non-contiguous blocks, potentially making it harder to allocate large contiguous blocks when needed.\n",
        "\n",
        "\n",
        "#24 How do you raise an exception manually in Python?\n",
        "- In Python, exceptions are raised using the raise keyword. This allows you to explicitly trigger an error condition and stop the normal flow of program execution.\n",
        "- Syntax:\n",
        "- raise ExceptionType(\"Optional error message\")\n",
        "- Example of rising built in exception:\n",
        "-     def calculate_division(numerator, denominator):\n",
        "-        if denominator == 0:\n",
        "-            raise ZeroDivisionError(\"Cannot divide by zero!\")\n",
        "-        return numerator / denominator\n",
        "-    try:\n",
        "-        result = calculate_division(10, 0)\n",
        "-        print(result)\n",
        "-    except ZeroDivisionError as e:\n",
        "-        print(f\"Error: {e}\")\n",
        "\n",
        "\n",
        "\n",
        "#25 Why is it important to use multithreading in certain applications?\n",
        "- Multithreading is important in certain applications because it allows for concurrent execution of tasks within a single process. This is particularly useful for:\n",
        "- Improving Responsiveness: In applications with a user interface, multithreading can prevent the application from freezing while performing time-consuming tasks in the background.\n",
        "- Handling I/O-bound tasks: Tasks that involve waiting for input/output operations (like reading from a file or making a network request) can be performed concurrently, making the program more efficient.\n",
        "- Better Resource Utilization: While not true parallelism on a single core, multithreading can make better use of available resources by switching between threads when one is waiting.\n",
        "- Simplifying Code Structure: For certain types of problems, using threads can lead to a more organized and simpler code structure.\n",
        "Essentially, multithreading helps keep your application responsive and efficient when dealing with tasks that don't require heavy CPU computation but involve waiting for external resources."
      ],
      "metadata": {
        "id": "gq0QpHu5pM62"
      }
    },
    {
      "cell_type": "markdown",
      "source": [
        "**Practical Questions**"
      ],
      "metadata": {
        "id": "Twj16A0Mb2-m"
      }
    },
    {
      "cell_type": "code",
      "source": [
        "#1 How can you open a file for writing in Python and write a string to it.\n",
        "file = open(\"example.txt\", \"w\")\n",
        "file.write(\"This is assignment on file handlings\")\n",
        "file.close()\n",
        "file = open(\"example.txt\", \"r\")\n",
        "file.read()"
      ],
      "metadata": {
        "id": "c28fGm0hcB8N",
        "colab": {
          "base_uri": "https://localhost:8080/",
          "height": 36
        },
        "outputId": "73dc5e2a-cb1e-4054-af1d-80507a1f8ade"
      },
      "execution_count": 1,
      "outputs": [
        {
          "output_type": "execute_result",
          "data": {
            "text/plain": [
              "'This is assignment on file handlings'"
            ],
            "application/vnd.google.colaboratory.intrinsic+json": {
              "type": "string"
            }
          },
          "metadata": {},
          "execution_count": 1
        }
      ]
    },
    {
      "cell_type": "code",
      "source": [
        "#2 Write a Python program to read the contents of a file and print each line\n",
        "file = open(\"example1.txt\", \"w\")\n",
        "file.write(\"This is the first line \\n\")\n",
        "file.write(\"This is the second line \\n\")\n",
        "file.write(\"This is the third line\")\n",
        "file.close()\n",
        "\n",
        "\n",
        "file = open(\"example1.txt\", \"r\")\n",
        "for i in file:\n",
        "  print(i)"
      ],
      "metadata": {
        "colab": {
          "base_uri": "https://localhost:8080/"
        },
        "id": "GSfP5bBPgwFc",
        "outputId": "26151a1a-8c07-4adf-f29b-9481acb2e114"
      },
      "execution_count": 2,
      "outputs": [
        {
          "output_type": "stream",
          "name": "stdout",
          "text": [
            "This is the first line \n",
            "\n",
            "This is the second line \n",
            "\n",
            "This is the third line\n"
          ]
        }
      ]
    },
    {
      "cell_type": "code",
      "source": [
        "#3 How would you handle a case where the file doesn't exist while trying to open it for reading\n",
        "# In that scenerio we would write a new file and than we will open the file\n",
        "file = open(\"example2.txt\", \"w\")\n",
        "file.write(\"This is the file we have created and we will read it now\")\n",
        "file.close()\n",
        "\n",
        "\n",
        "file= open(\"example2.txt\", \"r\")\n",
        "file.read()\n"
      ],
      "metadata": {
        "colab": {
          "base_uri": "https://localhost:8080/",
          "height": 36
        },
        "id": "h1mXoANug05r",
        "outputId": "d4455302-509a-430d-a950-49d22c42beda"
      },
      "execution_count": 3,
      "outputs": [
        {
          "output_type": "execute_result",
          "data": {
            "text/plain": [
              "'This is the file we have created and we will read it now'"
            ],
            "application/vnd.google.colaboratory.intrinsic+json": {
              "type": "string"
            }
          },
          "metadata": {},
          "execution_count": 3
        }
      ]
    },
    {
      "cell_type": "code",
      "source": [
        "#4 Write a Python script that reads from one file and writes its content to another file\n",
        "try:\n",
        "  with open(\"example2.txt\", 'r') as infile:\n",
        "        content = infile.read()\n",
        "  with open(\"example3.txt\", 'w') as outfile:\n",
        "        outfile.write(content)\n",
        "  print(f\"Content from '{example2.txt}' successfully written to '{example3.txt}'\")\n",
        "\n",
        "except FileNotFoundError:\n",
        "    print(f\"Error: Input file '{example2.txt}' not found.\")\n",
        "except Exception as e:\n",
        "    print(f\"An error occurred: {e}\")"
      ],
      "metadata": {
        "colab": {
          "base_uri": "https://localhost:8080/"
        },
        "id": "EjcbG3RYg4xB",
        "outputId": "69d31bec-d063-48f8-f9ac-23481374fbb6"
      },
      "execution_count": 4,
      "outputs": [
        {
          "output_type": "stream",
          "name": "stdout",
          "text": [
            "An error occurred: name 'example2' is not defined\n"
          ]
        }
      ]
    },
    {
      "cell_type": "code",
      "source": [
        "#5  How would you catch and handle division by zero error in Python\n",
        "try:\n",
        "  10/0\n",
        "except ZeroDivisionError as e:\n",
        "  print(\"The error has occured due to\", e)"
      ],
      "metadata": {
        "colab": {
          "base_uri": "https://localhost:8080/"
        },
        "id": "5tiQUM-fg-SM",
        "outputId": "c0a69d00-81ca-40d6-8b74-d31591666381"
      },
      "execution_count": 5,
      "outputs": [
        {
          "output_type": "stream",
          "name": "stdout",
          "text": [
            "The error has occured due to division by zero\n"
          ]
        }
      ]
    },
    {
      "cell_type": "code",
      "source": [
        "#6 Write a Python program that logs an error message to a log file when a division by zero exception occurs\n",
        "import logging\n",
        "logging.basicConfig(filename = \"error.log\", level = logging.ERROR, format = (\"%(asctime)s - %(levelname)s - %(message)s\"))\n",
        "def division(a, b):\n",
        "  try:\n",
        "    div = a/b\n",
        "    print(\"result of division is \", div)\n",
        "\n",
        "  except ZeroDivisionError as e:\n",
        "     logging.error(\"Attempted division by zero: a=%s, b=%s\", a, b)\n",
        "     print(\"the division is not possible due to \", e)\n",
        "     return None\n",
        "division(10, 0)"
      ],
      "metadata": {
        "colab": {
          "base_uri": "https://localhost:8080/"
        },
        "id": "1o31MMYehCUB",
        "outputId": "e9ec8239-87be-4f5c-ad6e-27bb1524d8a2"
      },
      "execution_count": 6,
      "outputs": [
        {
          "output_type": "stream",
          "name": "stderr",
          "text": [
            "ERROR:root:Attempted division by zero: a=10, b=0\n"
          ]
        },
        {
          "output_type": "stream",
          "name": "stdout",
          "text": [
            "the division is not possible due to  division by zero\n"
          ]
        }
      ]
    },
    {
      "cell_type": "code",
      "source": [
        "#7 How do you log information at different levels (INFO, ERROR, WARNING) in Python using the logging module\n",
        "import logging\n",
        "logging.basicConfig(filename = \"test.log\", level = logging.INFO, format = \"%(asctime)s %(levelname)s %(message)s\")\n",
        "logging.info(\"This is the info message\")\n",
        "logging.error(\"This is the error message\")\n",
        "logging.warning(\"This is the warning message\")\n",
        "logging.shutdown()\n"
      ],
      "metadata": {
        "colab": {
          "base_uri": "https://localhost:8080/"
        },
        "id": "z-pVQ2r3hGD-",
        "outputId": "7e8e70e8-de46-4534-b1c9-74b0b6a40825"
      },
      "execution_count": 7,
      "outputs": [
        {
          "output_type": "stream",
          "name": "stderr",
          "text": [
            "ERROR:root:This is the error message\n",
            "WARNING:root:This is the warning message\n"
          ]
        }
      ]
    },
    {
      "cell_type": "code",
      "source": [
        "#8 Write a program to handle a file opening error using exception handling\n",
        "try:\n",
        "  file = open(\"example9.txt\", \"r\")\n",
        "except FileNotFoundError as e:\n",
        "  print(\"File was not found due to\", e)\n",
        "else:\n",
        "  print(\"The file was found\")"
      ],
      "metadata": {
        "colab": {
          "base_uri": "https://localhost:8080/"
        },
        "id": "PT7CCk0YhJhw",
        "outputId": "29e4179e-f63b-441f-92a4-f60f3181ac11"
      },
      "execution_count": 8,
      "outputs": [
        {
          "output_type": "stream",
          "name": "stdout",
          "text": [
            "File was not found due to [Errno 2] No such file or directory: 'example9.txt'\n"
          ]
        }
      ]
    },
    {
      "cell_type": "code",
      "source": [
        "#9 How can you read a file line by line and store its content in a list in Python\n",
        "l = []\n",
        "f = open(\"test3.txt\", \"w\")\n",
        "f.write(\"This is the first line \\n\")\n",
        "f.write(\"This is the second line \\n\")\n",
        "f.write(\"This is the third line \\n\")\n",
        "f.close()\n",
        "\n",
        "f = open(\"test3.txt\", \"r\")\n",
        "for i in f:\n",
        "  l.append(i)\n",
        "print(l)"
      ],
      "metadata": {
        "colab": {
          "base_uri": "https://localhost:8080/"
        },
        "id": "-vYDUAwNhMcN",
        "outputId": "9a4ee471-506e-4f7d-f850-15a08a580c31"
      },
      "execution_count": 9,
      "outputs": [
        {
          "output_type": "stream",
          "name": "stdout",
          "text": [
            "['This is the first line \\n', 'This is the second line \\n', 'This is the third line \\n']\n"
          ]
        }
      ]
    },
    {
      "cell_type": "code",
      "source": [
        "#10  How can you append data to an existing file in Python\n",
        "f = open(\"test3.txt\", \"a\")\n",
        "f.write(\"This is the fourth line\")\n",
        "f.close()\n",
        "\n",
        "f = open(\"test3.txt\", \"r\")\n",
        "f.read()\n"
      ],
      "metadata": {
        "colab": {
          "base_uri": "https://localhost:8080/",
          "height": 36
        },
        "id": "CjbyniJzhPjL",
        "outputId": "660ba58c-25f2-458e-a65d-b8fe5f1ff038"
      },
      "execution_count": 10,
      "outputs": [
        {
          "output_type": "execute_result",
          "data": {
            "text/plain": [
              "'This is the first line \\nThis is the second line \\nThis is the third line \\nThis is the fourth line'"
            ],
            "application/vnd.google.colaboratory.intrinsic+json": {
              "type": "string"
            }
          },
          "metadata": {},
          "execution_count": 10
        }
      ]
    },
    {
      "cell_type": "code",
      "source": [
        "#11 Write a Python program that uses a try-except block to handle an error when attempting to access adictionary key that doesn't exist\n",
        "data = {\"name\": \"Tom\", \"age\": 30}\n",
        "try:\n",
        "  value = data[\"city\"]\n",
        "except KeyError as e:\n",
        "  print(\"The key 'city' doesnot exsist in the dictionary\")\n",
        "else:\n",
        "  print(\"no error detected\")"
      ],
      "metadata": {
        "colab": {
          "base_uri": "https://localhost:8080/"
        },
        "id": "0VPEYNW4hTPz",
        "outputId": "9f0d7426-cd50-4bd6-fb99-4e57fbd5bb1f"
      },
      "execution_count": 11,
      "outputs": [
        {
          "output_type": "stream",
          "name": "stdout",
          "text": [
            "The key 'city' doesnot exsist in the dictionary\n"
          ]
        }
      ]
    },
    {
      "cell_type": "code",
      "source": [
        "#12 Write a program that demonstrates using multiple except blocks to handle different types of exceptions\n",
        "try:\n",
        "  a = int(input(\"Enter the number: \"))\n",
        "  result = 20/a\n",
        "except ZeroDivisionError as e:\n",
        "  print(\"The number cannot be divided by zero\")\n",
        "except ValueError as e:\n",
        "  print(\"the error is a value error\")\n",
        "except NameError as e :\n",
        "  print(\"There is a name error\")\n",
        "else:\n",
        "  print(\"The result is \", result)"
      ],
      "metadata": {
        "colab": {
          "base_uri": "https://localhost:8080/"
        },
        "id": "vqIV2RpChWVh",
        "outputId": "338f9a68-cd56-4835-a048-b8c06ff22c3f"
      },
      "execution_count": 12,
      "outputs": [
        {
          "output_type": "stream",
          "name": "stdout",
          "text": [
            "Enter the number: 0\n",
            "The number cannot be divided by zero\n"
          ]
        }
      ]
    },
    {
      "cell_type": "code",
      "source": [
        "#13 How would you check if a file exists before attempting to read it in Python\n",
        "import os\n",
        "\n",
        "file_path = \"my_file.txt\"\n",
        "if os.path.exists(file_path):\n",
        "    print(f\"File '{file_path}' exists. Proceeding to read.\")\n",
        "    with open(file_path, 'r') as f:\n",
        "        content = f.read()\n",
        "        print(content)\n",
        "else:\n",
        "    print(f\"File '{file_path}' does not exist. Cannot read.\")"
      ],
      "metadata": {
        "colab": {
          "base_uri": "https://localhost:8080/"
        },
        "id": "JUX5I_8qheD-",
        "outputId": "aeec8575-2ba9-404f-c358-f9d92a575e5e"
      },
      "execution_count": 13,
      "outputs": [
        {
          "output_type": "stream",
          "name": "stdout",
          "text": [
            "File 'my_file.txt' does not exist. Cannot read.\n"
          ]
        }
      ]
    },
    {
      "cell_type": "code",
      "source": [
        "#14 Write a program that uses the logging module to log both informational and error messages\n",
        "import logging\n",
        "logging.basicConfig(filename = \"test4.log\", level = logging.INFO, format = \"%(asctime)s %(levelname)s %(message)s\")\n",
        "logging.info(\"This is the info message\")\n",
        "logging.error(\"This is the error message\")\n",
        "logging.shutdown()"
      ],
      "metadata": {
        "colab": {
          "base_uri": "https://localhost:8080/"
        },
        "id": "9SsiCBy-hhxM",
        "outputId": "57681a27-b806-4757-df21-691cf6df7639"
      },
      "execution_count": 14,
      "outputs": [
        {
          "output_type": "stream",
          "name": "stderr",
          "text": [
            "ERROR:root:This is the error message\n"
          ]
        }
      ]
    },
    {
      "cell_type": "code",
      "source": [
        "#15 Write a Python program that prints the content of a file and handles the case when the file is empty\n",
        "def print_file_content(filename):\n",
        "  \"\"\"\n",
        "  Prints the content of a file and handles the case when the file is empty.\n",
        "  \"\"\"\n",
        "  try:\n",
        "    with open(filename, 'r') as f:\n",
        "      content = f.read()\n",
        "      if content:\n",
        "        print(f\"Content of '{filename}':\")\n",
        "        print(content)\n",
        "      else:\n",
        "        print(f\"The file '{filename}' is empty.\")\n",
        "  except FileNotFoundError:\n",
        "    print(f\"Error: The file '{filename}' was not found.\")\n",
        "  except Exception as e:\n",
        "    print(f\"An unexpected error occurred: {e}\")\n",
        "with open('file_with_content.txt', 'w') as f:\n",
        "  f.write(\"This file has some content.\")\n",
        "with open('empty_file.txt', 'w') as f:\n",
        "  pass\n",
        "print_file_content('file_with_content.txt')\n",
        "print_file_content('empty_file.txt')\n",
        "print_file_content('non_existent_file.txt')"
      ],
      "metadata": {
        "colab": {
          "base_uri": "https://localhost:8080/"
        },
        "id": "Z0sdjrTAhkvo",
        "outputId": "534bf14a-11eb-45f3-ade3-0fb800d16f50"
      },
      "execution_count": 15,
      "outputs": [
        {
          "output_type": "stream",
          "name": "stdout",
          "text": [
            "Content of 'file_with_content.txt':\n",
            "This file has some content.\n",
            "The file 'empty_file.txt' is empty.\n",
            "Error: The file 'non_existent_file.txt' was not found.\n"
          ]
        }
      ]
    },
    {
      "cell_type": "code",
      "source": [
        "#16 Demonstrate how to use memory profiling to check the memory usage of a small program\n",
        "import time\n",
        "import multiprocessing\n",
        "start = time.perf_counter()\n",
        "def test_func():\n",
        "  print(\"do something\")\n",
        "  print(\"sleep for 1 seconds\")\n",
        "  time.sleep(1)\n",
        "  print(\"Done with sleeping\")\n",
        "p1 = multiprocessing.Process(target = test_func)\n",
        "p2 = multiprocessing.Process(target = test_func)\n",
        "p1.start()\n",
        "p2.start()\n",
        "p1.join()\n",
        "p2.join()\n",
        "end = time.perf_counter()\n",
        "print(\"time taken for the program {round(end-start, 2)} seconds\")\n",
        "\n"
      ],
      "metadata": {
        "colab": {
          "base_uri": "https://localhost:8080/"
        },
        "id": "Tb0r3LB-hnR6",
        "outputId": "1b019fcc-cf55-444e-b58a-66f91b346947"
      },
      "execution_count": 16,
      "outputs": [
        {
          "output_type": "stream",
          "name": "stdout",
          "text": [
            "do something\n",
            "sleep for 1 secondsdo something\n",
            "\n",
            "sleep for 1 seconds\n",
            "Done with sleeping\n",
            "Done with sleeping\n",
            "time taken for the program {round(end-start, 2)} seconds\n"
          ]
        }
      ]
    },
    {
      "cell_type": "code",
      "source": [
        "#17  Write a Python program to create and write a list of numbers to a file, one number per line\n",
        "numbers = [1, 2, 3, 4, 5, 6, 7, 8, 9, 10]\n",
        "filename = \"numbers.txt\"\n",
        "\n",
        "with open(filename, 'w') as file:\n",
        "  for number in numbers:\n",
        "    file.write(str(number) + '\\n')\n",
        "\n",
        "print(f\"List of numbers written to '{filename}' successfully.\")\n"
      ],
      "metadata": {
        "colab": {
          "base_uri": "https://localhost:8080/"
        },
        "id": "WzYwMhtfhqW7",
        "outputId": "dc323beb-1426-4f0b-e6ac-d360659fe818"
      },
      "execution_count": 17,
      "outputs": [
        {
          "output_type": "stream",
          "name": "stdout",
          "text": [
            "List of numbers written to 'numbers.txt' successfully.\n"
          ]
        }
      ]
    },
    {
      "cell_type": "code",
      "source": [
        "#18 How would you implement a basic logging setup that logs to a file with rotation after 1MB\n",
        "import logging\n",
        "from logging.handlers import RotatingFileHandler\n",
        "import os\n",
        "log_file = \"rotating_log.log\"\n",
        "logger = logging.getLogger(\"my_rotating_logger\")\n",
        "logger.setLevel(logging.INFO)\n",
        "handler = RotatingFileHandler(log_file, maxBytes=1024 * 1024, backupCount=5)\n",
        "formatter = logging.Formatter('%(asctime)s - %(name)s - %(levelname)s - %(message)s')\n",
        "handler.setFormatter(formatter)\n",
        "logger.addHandler(handler)\n",
        "logger.info(\"This is an informational message.\")\n",
        "logger.error(\"This is an error message.\")\n",
        "logger.warning(\"This is a warning message.\")\n",
        "\n",
        "print(f\"Logging configured to '{log_file}' with rotation.\")"
      ],
      "metadata": {
        "colab": {
          "base_uri": "https://localhost:8080/"
        },
        "id": "IP4XTL2bhtBH",
        "outputId": "e6b5759b-b1f9-4425-fc04-9cb1a08bcdfc"
      },
      "execution_count": 18,
      "outputs": [
        {
          "output_type": "stream",
          "name": "stderr",
          "text": [
            "INFO:my_rotating_logger:This is an informational message.\n",
            "ERROR:my_rotating_logger:This is an error message.\n",
            "WARNING:my_rotating_logger:This is a warning message.\n"
          ]
        },
        {
          "output_type": "stream",
          "name": "stdout",
          "text": [
            "Logging configured to 'rotating_log.log' with rotation.\n"
          ]
        }
      ]
    },
    {
      "cell_type": "code",
      "source": [
        "#19 Write a program that handles both IndexError and KeyError using a try-except block\n",
        "l = [\"banana\", \"orange\", \"apple\"]\n",
        "try:\n",
        "  l[4]\n",
        "except (IndexError, KeyError) as e:\n",
        "  print(\"The error is\", e)\n",
        "else:\n",
        "  print(\"There is no error\")"
      ],
      "metadata": {
        "colab": {
          "base_uri": "https://localhost:8080/"
        },
        "id": "c2oD8Tzehx__",
        "outputId": "8857f1a3-181b-463b-b598-249040055b99"
      },
      "execution_count": 19,
      "outputs": [
        {
          "output_type": "stream",
          "name": "stdout",
          "text": [
            "The error is list index out of range\n"
          ]
        }
      ]
    },
    {
      "cell_type": "code",
      "source": [
        "#20 How would you open a file and read its contents using a context manager in Python\n",
        "with open(\"sample_file.txt\", \"w\") as file:\n",
        "    file.write(\"This is the first line.\\n\")\n",
        "    file.write(\"This is the second line.\")\n",
        "try:\n",
        "    with open(\"sample_file.txt\", \"r\") as file:\n",
        "        content = file.read()\n",
        "        print(content)\n",
        "except FileNotFoundError:\n",
        "    print(\"The file was not found.\")\n",
        "except Exception as e:\n",
        "    print(f\"An error occurred: {e}\")\n"
      ],
      "metadata": {
        "colab": {
          "base_uri": "https://localhost:8080/"
        },
        "id": "LfAtA1j8h1nN",
        "outputId": "c511912a-0361-449c-dbd1-3d76c663cd75"
      },
      "execution_count": 20,
      "outputs": [
        {
          "output_type": "stream",
          "name": "stdout",
          "text": [
            "This is the first line.\n",
            "This is the second line.\n"
          ]
        }
      ]
    },
    {
      "cell_type": "code",
      "source": [
        "#21 Write a Python program that reads a file and prints the number of occurrences of a specific word\n",
        "def count_word_occurrences(file_path, target_word):\n",
        "    try:\n",
        "        with open(file_path, 'r') as file:\n",
        "            content = file.read()\n",
        "            word_count = content.lower().count(target_word.lower())\n",
        "            print(f\"The word '{target_word}' appears {word_count} times in the file.\")\n",
        "    except FileNotFoundError:\n",
        "        print(f\"Error: The file '{file_path}' was not found.\")\n",
        "    except Exception as e:\n",
        "        print(f\"An error occurred: {e}\")\n",
        "with open(\"sample_word_count.txt\", \"w\") as f:\n",
        "    f.write(\"This is a sample file. This file is for testing the word count program. This is a test.\")\n",
        "count_word_occurrences(\"sample_word_count.txt\", \"this\")\n",
        "count_word_occurrences(\"sample_word_count.txt\", \"file\")\n",
        "count_word_occurrences(\"non_existent_file.txt\", \"test\")"
      ],
      "metadata": {
        "colab": {
          "base_uri": "https://localhost:8080/"
        },
        "id": "ZoKzbtSXh4el",
        "outputId": "0bf4f6fa-0b0d-4b74-a2e4-db2baba2d33c"
      },
      "execution_count": 21,
      "outputs": [
        {
          "output_type": "stream",
          "name": "stdout",
          "text": [
            "The word 'this' appears 3 times in the file.\n",
            "The word 'file' appears 2 times in the file.\n",
            "Error: The file 'non_existent_file.txt' was not found.\n"
          ]
        }
      ]
    },
    {
      "cell_type": "code",
      "source": [
        "#22 How can you check if a file is empty before attempting to read its contents\n",
        "import os\n",
        "\n",
        "def is_file_empty_by_size(file_path):\n",
        "  \"\"\"Checks if a file is empty by checking its size.\"\"\"\n",
        "  try:\n",
        "    return os.path.getsize(file_path) == 0\n",
        "  except FileNotFoundError:\n",
        "    print(f\"Error: File '{file_path}' not found.\")\n",
        "    return False\n",
        "  except Exception as e:\n",
        "    print(f\"An error occurred: {e}\")\n",
        "    return False\n",
        "\n",
        "def is_file_empty_by_read(file_path):\n",
        "  \"\"\"Checks if a file is empty by trying to read the first character.\"\"\"\n",
        "  try:\n",
        "    with open(file_path, 'r') as f:\n",
        "      return len(f.read(1)) == 0\n",
        "  except FileNotFoundError:\n",
        "    print(f\"Error: File '{file_path}' not found.\")\n",
        "    return False\n",
        "  except Exception as e:\n",
        "    print(f\"An error occurred: {e}\")\n",
        "    return False\n",
        "\n",
        "\n",
        "with open(\"empty_file_check.txt\", \"w\") as f:\n",
        "  pass\n",
        "\n",
        "\n",
        "with open(\"non_empty_file_check.txt\", \"w\") as f:\n",
        "  f.write(\"This file has content.\")\n",
        "\n",
        "print(f\"Is 'empty_file_check.txt' empty (by size)? {is_file_empty_by_size('empty_file_check.txt')}\")\n",
        "\n"
      ],
      "metadata": {
        "colab": {
          "base_uri": "https://localhost:8080/"
        },
        "id": "z4LJPtflh7WR",
        "outputId": "5200a806-be83-4300-b97e-8f0f6843bd56"
      },
      "execution_count": 22,
      "outputs": [
        {
          "output_type": "stream",
          "name": "stdout",
          "text": [
            "Is 'empty_file_check.txt' empty (by size)? True\n"
          ]
        }
      ]
    },
    {
      "cell_type": "code",
      "source": [
        "#23 Write a Python program that writes to a log file when an error occurs during file handling.\n",
        "import logging\n",
        "logging.basicConfig(filename = \"error.log\", level = logging.ERROR, format = \"%(asctime)s %(levelname)s %(message)s\")\n",
        "logging.info(\"This is the info message\")\n",
        "logging.error(\"This is the error message\")\n",
        "logging.shutdown()\n"
      ],
      "metadata": {
        "colab": {
          "base_uri": "https://localhost:8080/"
        },
        "id": "yJIPo9Rth-Zw",
        "outputId": "e9280cdd-280b-41b6-922e-381df1cbe746"
      },
      "execution_count": 23,
      "outputs": [
        {
          "output_type": "stream",
          "name": "stderr",
          "text": [
            "ERROR:root:This is the error message\n"
          ]
        }
      ]
    }
  ]
}